{
 "cells": [
  {
   "cell_type": "markdown",
   "metadata": {
    "colab_type": "text",
    "id": "1fziHl7Ar94J"
   },
   "source": [
    "# Apriori"
   ]
  },
  {
   "cell_type": "markdown",
   "metadata": {},
   "source": []
  },
  {
   "cell_type": "markdown",
   "metadata": {
    "colab_type": "text",
    "id": "eiNwni1xsEgT"
   },
   "source": [
    "## Importing the libraries"
   ]
  },
  {
   "cell_type": "code",
   "execution_count": 1,
   "metadata": {
    "colab": {
     "base_uri": "https://localhost:8080/",
     "height": 34
    },
    "colab_type": "code",
    "id": "DUF77Qr1vqyM",
    "outputId": "c4c2d702-9e4b-414c-bb3e-caa543b487f0"
   },
   "outputs": [
    {
     "name": "stdout",
     "output_type": "stream",
     "text": [
      "Requirement already satisfied: apyori in c:\\users\\minato\\appdata\\local\\packages\\pythonsoftwarefoundation.python.3.11_qbz5n2kfra8p0\\localcache\\local-packages\\python311\\site-packages (1.1.2)"
     ]
    },
    {
     "name": "stderr",
     "output_type": "stream",
     "text": [
      "\n",
      "[notice] A new release of pip is available: 24.2 -> 25.0.1\n",
      "[notice] To update, run: C:\\Users\\Minato\\AppData\\Local\\Microsoft\\WindowsApps\\PythonSoftwareFoundation.Python.3.11_qbz5n2kfra8p0\\python.exe -m pip install --upgrade pip\n"
     ]
    },
    {
     "name": "stdout",
     "output_type": "stream",
     "text": [
      "\n"
     ]
    }
   ],
   "source": [
    "!pip install apyori"
   ]
  },
  {
   "cell_type": "code",
   "execution_count": 2,
   "metadata": {
    "colab": {},
    "colab_type": "code",
    "id": "UJfitBClsJlT"
   },
   "outputs": [],
   "source": [
    "import numpy as np\n",
    "import matplotlib.pyplot as plt\n",
    "import pandas as pd"
   ]
  },
  {
   "cell_type": "markdown",
   "metadata": {
    "colab_type": "text",
    "id": "vLt-7XUKsXBd"
   },
   "source": [
    "## Data Preprocessing"
   ]
  },
  {
   "cell_type": "code",
   "execution_count": 3,
   "metadata": {},
   "outputs": [],
   "source": [
    "dataset = pd.read_csv('Market_Basket_Optimisation.csv', header = None)\n"
   ]
  },
  {
   "cell_type": "code",
   "execution_count": 4,
   "metadata": {
    "colab": {},
    "colab_type": "code",
    "id": "J_A-UFOAsaDf"
   },
   "outputs": [],
   "source": [
    "\n",
    "transactions = []\n",
    "\n",
    "for i in range(0, 7501):\n",
    "   transactions.append([str(dataset.values[i,j]) for j in range(0, 20) if str(dataset.values[i,j]) != 'nan'])"
   ]
  },
  {
   "cell_type": "markdown",
   "metadata": {
    "colab_type": "text",
    "id": "1wYZdBd5sea_"
   },
   "source": [
    "## Training the Apriori model on the dataset"
   ]
  },
  {
   "cell_type": "code",
   "execution_count": 5,
   "metadata": {
    "colab": {},
    "colab_type": "code",
    "id": "YzIk4vXZsj5i"
   },
   "outputs": [],
   "source": [
    "from apyori import apriori\n",
    "rules = apriori(transactions = transactions, min_support = 0.01, min_confidence = 0.2, min_lift = 1.3, min_length = 2, max_length = 4)"
   ]
  },
  {
   "cell_type": "markdown",
   "metadata": {
    "colab_type": "text",
    "id": "b176YNwWspiO"
   },
   "source": [
    "## Visualising the results"
   ]
  },
  {
   "cell_type": "markdown",
   "metadata": {
    "colab_type": "text",
    "id": "iO6bF_dImT-E"
   },
   "source": [
    "### Displaying the first results coming directly from the output of the apriori function"
   ]
  },
  {
   "cell_type": "code",
   "execution_count": 6,
   "metadata": {
    "colab": {},
    "colab_type": "code",
    "id": "kvF-sLc6ifhd"
   },
   "outputs": [],
   "source": [
    "results = list(rules)"
   ]
  },
  {
   "cell_type": "code",
   "execution_count": 7,
   "metadata": {
    "colab": {
     "base_uri": "https://localhost:8080/",
     "height": 191
    },
    "colab_type": "code",
    "id": "eAD8Co4_l9IE",
    "outputId": "d8523472-b36f-4020-c6fc-01ee3a0d8a86",
    "scrolled": true
   },
   "outputs": [
    {
     "data": {
      "text/plain": [
       "[RelationRecord(items=frozenset({'avocado', 'mineral water'}), support=0.011598453539528063, ordered_statistics=[OrderedStatistic(items_base=frozenset({'avocado'}), items_add=frozenset({'mineral water'}), confidence=0.348, lift=1.4599261744966443)]),\n",
       " RelationRecord(items=frozenset({'eggs', 'burgers'}), support=0.02879616051193174, ordered_statistics=[OrderedStatistic(items_base=frozenset({'burgers'}), items_add=frozenset({'eggs'}), confidence=0.33027522935779813, lift=1.8378297443715457)]),\n",
       " RelationRecord(items=frozenset({'burgers', 'french fries'}), support=0.021997067057725635, ordered_statistics=[OrderedStatistic(items_base=frozenset({'burgers'}), items_add=frozenset({'french fries'}), confidence=0.25229357798165136, lift=1.4761732671141707)]),\n",
       " RelationRecord(items=frozenset({'burgers', 'green tea'}), support=0.0174643380882549, ordered_statistics=[OrderedStatistic(items_base=frozenset({'burgers'}), items_add=frozenset({'green tea'}), confidence=0.2003058103975535, lift=1.5161391360161947)]),\n",
       " RelationRecord(items=frozenset({'milk', 'burgers'}), support=0.01786428476203173, ordered_statistics=[OrderedStatistic(items_base=frozenset({'burgers'}), items_add=frozenset({'milk'}), confidence=0.20489296636085627, lift=1.581175041844427)]),\n",
       " RelationRecord(items=frozenset({'spaghetti', 'burgers'}), support=0.021463804826023197, ordered_statistics=[OrderedStatistic(items_base=frozenset({'burgers'}), items_add=frozenset({'spaghetti'}), confidence=0.24617737003058102, lift=1.4139176513012162)]),\n",
       " RelationRecord(items=frozenset({'eggs', 'cake'}), support=0.019064124783362217, ordered_statistics=[OrderedStatistic(items_base=frozenset({'cake'}), items_add=frozenset({'eggs'}), confidence=0.23519736842105263, lift=1.308765178431985)]),\n",
       " RelationRecord(items=frozenset({'mineral water', 'cake'}), support=0.027463004932675644, ordered_statistics=[OrderedStatistic(items_base=frozenset({'cake'}), items_add=frozenset({'mineral water'}), confidence=0.33881578947368424, lift=1.4213966649005065)]),\n",
       " RelationRecord(items=frozenset({'cereals', 'mineral water'}), support=0.010265297960271964, ordered_statistics=[OrderedStatistic(items_base=frozenset({'cereals'}), items_add=frozenset({'mineral water'}), confidence=0.3989637305699482, lift=1.6737287153272828)]),\n",
       " RelationRecord(items=frozenset({'champagne', 'chocolate'}), support=0.011598453539528063, ordered_statistics=[OrderedStatistic(items_base=frozenset({'champagne'}), items_add=frozenset({'chocolate'}), confidence=0.24786324786324784, lift=1.5127926950546964)]),\n",
       " RelationRecord(items=frozenset({'chicken', 'chocolate'}), support=0.014664711371817091, ordered_statistics=[OrderedStatistic(items_base=frozenset({'chicken'}), items_add=frozenset({'chocolate'}), confidence=0.24444444444444446, lift=1.4919265889160112)]),\n",
       " RelationRecord(items=frozenset({'eggs', 'chicken'}), support=0.01439808025596587, ordered_statistics=[OrderedStatistic(items_base=frozenset({'chicken'}), items_add=frozenset({'eggs'}), confidence=0.24, lift=1.3354896142433235)]),\n",
       " RelationRecord(items=frozenset({'chicken', 'milk'}), support=0.014798026929742702, ordered_statistics=[OrderedStatistic(items_base=frozenset({'chicken'}), items_add=frozenset({'milk'}), confidence=0.24666666666666667, lift=1.9035459533607684)]),\n",
       " RelationRecord(items=frozenset({'chicken', 'mineral water'}), support=0.022796960405279298, ordered_statistics=[OrderedStatistic(items_base=frozenset({'chicken'}), items_add=frozenset({'mineral water'}), confidence=0.38000000000000006, lift=1.5941722595078303)]),\n",
       " RelationRecord(items=frozenset({'chicken', 'spaghetti'}), support=0.01719770697240368, ordered_statistics=[OrderedStatistic(items_base=frozenset({'chicken'}), items_add=frozenset({'spaghetti'}), confidence=0.2866666666666667, lift=1.6464675855028077)]),\n",
       " RelationRecord(items=frozenset({'chocolate', 'cooking oil'}), support=0.013598186908412212, ordered_statistics=[OrderedStatistic(items_base=frozenset({'cooking oil'}), items_add=frozenset({'chocolate'}), confidence=0.26631853785900783, lift=1.6254315317171828)]),\n",
       " RelationRecord(items=frozenset({'escalope', 'chocolate'}), support=0.01759765364618051, ordered_statistics=[OrderedStatistic(items_base=frozenset({'escalope'}), items_add=frozenset({'chocolate'}), confidence=0.22184873949579834, lift=1.3540174084279766)]),\n",
       " RelationRecord(items=frozenset({'frozen smoothie', 'chocolate'}), support=0.01493134248766831, ordered_statistics=[OrderedStatistic(items_base=frozenset({'frozen smoothie'}), items_add=frozenset({'chocolate'}), confidence=0.23578947368421052, lift=1.43910239390176)]),\n",
       " RelationRecord(items=frozenset({'frozen vegetables', 'chocolate'}), support=0.022930275963204905, ordered_statistics=[OrderedStatistic(items_base=frozenset({'frozen vegetables'}), items_add=frozenset({'chocolate'}), confidence=0.24055944055944053, lift=1.4682151046675047)]),\n",
       " RelationRecord(items=frozenset({'ground beef', 'chocolate'}), support=0.023063591521130515, ordered_statistics=[OrderedStatistic(items_base=frozenset({'ground beef'}), items_add=frozenset({'chocolate'}), confidence=0.23473541383989144, lift=1.4326691124597442)]),\n",
       " RelationRecord(items=frozenset({'milk', 'chocolate'}), support=0.03212904946007199, ordered_statistics=[OrderedStatistic(items_base=frozenset({'milk'}), items_add=frozenset({'chocolate'}), confidence=0.2479423868312757, lift=1.5132757067708698)]),\n",
       " RelationRecord(items=frozenset({'mineral water', 'chocolate'}), support=0.05265964538061592, ordered_statistics=[OrderedStatistic(items_base=frozenset({'chocolate'}), items_add=frozenset({'mineral water'}), confidence=0.3213995117982099, lift=1.3483320682317521), OrderedStatistic(items_base=frozenset({'mineral water'}), items_add=frozenset({'chocolate'}), confidence=0.220917225950783, lift=1.348332068231752)]),\n",
       " RelationRecord(items=frozenset({'chocolate', 'olive oil'}), support=0.01639781362485002, ordered_statistics=[OrderedStatistic(items_base=frozenset({'olive oil'}), items_add=frozenset({'chocolate'}), confidence=0.24898785425101214, lift=1.5196565457582114)]),\n",
       " RelationRecord(items=frozenset({'salmon', 'chocolate'}), support=0.010665244634048793, ordered_statistics=[OrderedStatistic(items_base=frozenset({'salmon'}), items_add=frozenset({'chocolate'}), confidence=0.2507836990595611, lift=1.5306171901104701)]),\n",
       " RelationRecord(items=frozenset({'shrimp', 'chocolate'}), support=0.017997600319957337, ordered_statistics=[OrderedStatistic(items_base=frozenset({'shrimp'}), items_add=frozenset({'chocolate'}), confidence=0.251865671641791, lift=1.5372208323719074)]),\n",
       " RelationRecord(items=frozenset({'spaghetti', 'chocolate'}), support=0.03919477403012932, ordered_statistics=[OrderedStatistic(items_base=frozenset({'chocolate'}), items_add=frozenset({'spaghetti'}), confidence=0.23921887713588283, lift=1.3739516059695691), OrderedStatistic(items_base=frozenset({'spaghetti'}), items_add=frozenset({'chocolate'}), confidence=0.22511485451761104, lift=1.3739516059695691)]),\n",
       " RelationRecord(items=frozenset({'milk', 'cooking oil'}), support=0.011465137981602452, ordered_statistics=[OrderedStatistic(items_base=frozenset({'cooking oil'}), items_add=frozenset({'milk'}), confidence=0.22454308093994776, lift=1.732816512479988)]),\n",
       " RelationRecord(items=frozenset({'mineral water', 'cooking oil'}), support=0.020130649246767097, ordered_statistics=[OrderedStatistic(items_base=frozenset({'cooking oil'}), items_add=frozenset({'mineral water'}), confidence=0.3942558746736292, lift=1.6539783646123563)]),\n",
       " RelationRecord(items=frozenset({'spaghetti', 'cooking oil'}), support=0.01586455139314758, ordered_statistics=[OrderedStatistic(items_base=frozenset({'cooking oil'}), items_add=frozenset({'spaghetti'}), confidence=0.31070496083550914, lift=1.7845313255950643)]),\n",
       " RelationRecord(items=frozenset({'eggs', 'herb & pepper'}), support=0.012531662445007332, ordered_statistics=[OrderedStatistic(items_base=frozenset({'herb & pepper'}), items_add=frozenset({'eggs'}), confidence=0.25336927223719674, lift=1.4098834651715229)]),\n",
       " RelationRecord(items=frozenset({'eggs', 'milk'}), support=0.03079589388081589, ordered_statistics=[OrderedStatistic(items_base=frozenset({'milk'}), items_add=frozenset({'eggs'}), confidence=0.23765432098765432, lift=1.322436989412756)]),\n",
       " RelationRecord(items=frozenset({'eggs', 'turkey'}), support=0.01946407145713905, ordered_statistics=[OrderedStatistic(items_base=frozenset({'turkey'}), items_add=frozenset({'eggs'}), confidence=0.31130063965884863, lift=1.7322448798820649)]),\n",
       " RelationRecord(items=frozenset({'frozen smoothie', 'french fries'}), support=0.014531395813891481, ordered_statistics=[OrderedStatistic(items_base=frozenset({'frozen smoothie'}), items_add=frozenset({'french fries'}), confidence=0.22947368421052633, lift=1.3426537482551935)]),\n",
       " RelationRecord(items=frozenset({'frozen smoothie', 'milk'}), support=0.014264764698040262, ordered_statistics=[OrderedStatistic(items_base=frozenset({'frozen smoothie'}), items_add=frozenset({'milk'}), confidence=0.22526315789473686, lift=1.7383734026424087)]),\n",
       " RelationRecord(items=frozenset({'frozen smoothie', 'mineral water'}), support=0.020263964804692707, ordered_statistics=[OrderedStatistic(items_base=frozenset({'frozen smoothie'}), items_add=frozenset({'mineral water'}), confidence=0.32, lift=1.342460850111857)]),\n",
       " RelationRecord(items=frozenset({'frozen smoothie', 'spaghetti'}), support=0.01559792027729636, ordered_statistics=[OrderedStatistic(items_base=frozenset({'frozen smoothie'}), items_add=frozenset({'spaghetti'}), confidence=0.24631578947368424, lift=1.414712662206819)]),\n",
       " RelationRecord(items=frozenset({'frozen vegetables', 'milk'}), support=0.023596853752832957, ordered_statistics=[OrderedStatistic(items_base=frozenset({'frozen vegetables'}), items_add=frozenset({'milk'}), confidence=0.24755244755244757, lift=1.9103815937149273)]),\n",
       " RelationRecord(items=frozenset({'frozen vegetables', 'mineral water'}), support=0.03572856952406346, ordered_statistics=[OrderedStatistic(items_base=frozenset({'frozen vegetables'}), items_add=frozenset({'mineral water'}), confidence=0.37482517482517486, lift=1.57246288387228)]),\n",
       " RelationRecord(items=frozenset({'frozen vegetables', 'shrimp'}), support=0.01666444474070124, ordered_statistics=[OrderedStatistic(items_base=frozenset({'shrimp'}), items_add=frozenset({'frozen vegetables'}), confidence=0.23320895522388058, lift=2.44657394843962)]),\n",
       " RelationRecord(items=frozenset({'frozen vegetables', 'spaghetti'}), support=0.027862951606452472, ordered_statistics=[OrderedStatistic(items_base=frozenset({'frozen vegetables'}), items_add=frozenset({'spaghetti'}), confidence=0.29230769230769227, lift=1.678866768759571)]),\n",
       " RelationRecord(items=frozenset({'frozen vegetables', 'tomatoes'}), support=0.0161311825089988, ordered_statistics=[OrderedStatistic(items_base=frozenset({'tomatoes'}), items_add=frozenset({'frozen vegetables'}), confidence=0.23586744639376217, lift=2.4744639376218323)]),\n",
       " RelationRecord(items=frozenset({'ground beef', 'grated cheese'}), support=0.011331822423676844, ordered_statistics=[OrderedStatistic(items_base=frozenset({'grated cheese'}), items_add=frozenset({'ground beef'}), confidence=0.2162849872773537, lift=2.201294015695292)]),\n",
       " RelationRecord(items=frozenset({'mineral water', 'grated cheese'}), support=0.0174643380882549, ordered_statistics=[OrderedStatistic(items_base=frozenset({'grated cheese'}), items_add=frozenset({'mineral water'}), confidence=0.3333333333333333, lift=1.3983967188665174)]),\n",
       " RelationRecord(items=frozenset({'spaghetti', 'grated cheese'}), support=0.01653112918277563, ordered_statistics=[OrderedStatistic(items_base=frozenset({'grated cheese'}), items_add=frozenset({'spaghetti'}), confidence=0.3155216284987277, lift=1.8121958157495839)]),\n",
       " RelationRecord(items=frozenset({'ground beef', 'herb & pepper'}), support=0.015997866951073192, ordered_statistics=[OrderedStatistic(items_base=frozenset({'herb & pepper'}), items_add=frozenset({'ground beef'}), confidence=0.3234501347708895, lift=3.2919938411349285)]),\n",
       " RelationRecord(items=frozenset({'ground beef', 'milk'}), support=0.021997067057725635, ordered_statistics=[OrderedStatistic(items_base=frozenset({'ground beef'}), items_add=frozenset({'milk'}), confidence=0.22388059701492538, lift=1.7277040722314356)]),\n",
       " RelationRecord(items=frozenset({'ground beef', 'mineral water'}), support=0.040927876283162246, ordered_statistics=[OrderedStatistic(items_base=frozenset({'ground beef'}), items_add=frozenset({'mineral water'}), confidence=0.41655359565807326, lift=1.7475215442008991)]),\n",
       " RelationRecord(items=frozenset({'ground beef', 'olive oil'}), support=0.014131449140114652, ordered_statistics=[OrderedStatistic(items_base=frozenset({'olive oil'}), items_add=frozenset({'ground beef'}), confidence=0.2145748987854251, lift=2.183889166607156)]),\n",
       " RelationRecord(items=frozenset({'ground beef', 'spaghetti'}), support=0.03919477403012932, ordered_statistics=[OrderedStatistic(items_base=frozenset({'ground beef'}), items_add=frozenset({'spaghetti'}), confidence=0.3989145183175034, lift=2.291162176033379), OrderedStatistic(items_base=frozenset({'spaghetti'}), items_add=frozenset({'ground beef'}), confidence=0.22511485451761104, lift=2.2911621760333793)]),\n",
       " RelationRecord(items=frozenset({'mineral water', 'herb & pepper'}), support=0.017064391414478068, ordered_statistics=[OrderedStatistic(items_base=frozenset({'herb & pepper'}), items_add=frozenset({'mineral water'}), confidence=0.34501347708894875, lift=1.447397142977743)]),\n",
       " RelationRecord(items=frozenset({'spaghetti', 'herb & pepper'}), support=0.01626449806692441, ordered_statistics=[OrderedStatistic(items_base=frozenset({'herb & pepper'}), items_add=frozenset({'spaghetti'}), confidence=0.32884097035040427, lift=1.8886953434903389)]),\n",
       " RelationRecord(items=frozenset({'mineral water', 'honey'}), support=0.015064658045593921, ordered_statistics=[OrderedStatistic(items_base=frozenset({'honey'}), items_add=frozenset({'mineral water'}), confidence=0.31741573033707865, lift=1.3316193474599705)]),\n",
       " RelationRecord(items=frozenset({'spaghetti', 'honey'}), support=0.011865084655379284, ordered_statistics=[OrderedStatistic(items_base=frozenset({'honey'}), items_add=frozenset({'spaghetti'}), confidence=0.25, lift=1.435872894333844)]),\n",
       " RelationRecord(items=frozenset({'low fat yogurt', 'mineral water'}), support=0.023996800426609784, ordered_statistics=[OrderedStatistic(items_base=frozenset({'low fat yogurt'}), items_add=frozenset({'mineral water'}), confidence=0.313588850174216, lift=1.315564857470243)]),\n",
       " RelationRecord(items=frozenset({'milk', 'mineral water'}), support=0.04799360085321957, ordered_statistics=[OrderedStatistic(items_base=frozenset({'milk'}), items_add=frozenset({'mineral water'}), confidence=0.3703703703703704, lift=1.5537741320739085), OrderedStatistic(items_base=frozenset({'mineral water'}), items_add=frozenset({'milk'}), confidence=0.20134228187919462, lift=1.5537741320739085)]),\n",
       " RelationRecord(items=frozenset({'milk', 'olive oil'}), support=0.017064391414478068, ordered_statistics=[OrderedStatistic(items_base=frozenset({'olive oil'}), items_add=frozenset({'milk'}), confidence=0.2591093117408907, lift=1.9995668182802688)]),\n",
       " RelationRecord(items=frozenset({'milk', 'shrimp'}), support=0.01759765364618051, ordered_statistics=[OrderedStatistic(items_base=frozenset({'shrimp'}), items_add=frozenset({'milk'}), confidence=0.2462686567164179, lift=1.900474479454579)]),\n",
       " RelationRecord(items=frozenset({'milk', 'soup'}), support=0.015197973603519531, ordered_statistics=[OrderedStatistic(items_base=frozenset({'soup'}), items_add=frozenset({'milk'}), confidence=0.3007915567282322, lift=2.3212319619531585)]),\n",
       " RelationRecord(items=frozenset({'milk', 'spaghetti'}), support=0.03546193840821224, ordered_statistics=[OrderedStatistic(items_base=frozenset({'milk'}), items_add=frozenset({'spaghetti'}), confidence=0.27366255144032925, lift=1.5717785592296398), OrderedStatistic(items_base=frozenset({'spaghetti'}), items_add=frozenset({'milk'}), confidence=0.20367534456355285, lift=1.57177855922964)]),\n",
       " RelationRecord(items=frozenset({'milk', 'tomatoes'}), support=0.013998133582189041, ordered_statistics=[OrderedStatistic(items_base=frozenset({'tomatoes'}), items_add=frozenset({'milk'}), confidence=0.2046783625730994, lift=1.5795189276345871)]),\n",
       " RelationRecord(items=frozenset({'whole wheat rice', 'milk'}), support=0.011865084655379284, ordered_statistics=[OrderedStatistic(items_base=frozenset({'whole wheat rice'}), items_add=frozenset({'milk'}), confidence=0.2027334851936219, lift=1.5645101568285575)]),\n",
       " RelationRecord(items=frozenset({'mineral water', 'olive oil'}), support=0.027596320490601255, ordered_statistics=[OrderedStatistic(items_base=frozenset({'olive oil'}), items_add=frozenset({'mineral water'}), confidence=0.4190283400809717, lift=1.7579035676439423)]),\n",
       " RelationRecord(items=frozenset({'pancakes', 'mineral water'}), support=0.03372883615517931, ordered_statistics=[OrderedStatistic(items_base=frozenset({'pancakes'}), items_add=frozenset({'mineral water'}), confidence=0.3548387096774194, lift=1.4886158620191963)]),\n",
       " RelationRecord(items=frozenset({'red wine', 'mineral water'}), support=0.010931875749900012, ordered_statistics=[OrderedStatistic(items_base=frozenset({'red wine'}), items_add=frozenset({'mineral water'}), confidence=0.38862559241706157, lift=1.6303582599107265)]),\n",
       " RelationRecord(items=frozenset({'salmon', 'mineral water'}), support=0.017064391414478068, ordered_statistics=[OrderedStatistic(items_base=frozenset({'salmon'}), items_add=frozenset({'mineral water'}), confidence=0.4012539184952978, lift=1.6833364891684726)]),\n",
       " RelationRecord(items=frozenset({'shrimp', 'mineral water'}), support=0.023596853752832957, ordered_statistics=[OrderedStatistic(items_base=frozenset({'shrimp'}), items_add=frozenset({'mineral water'}), confidence=0.3302238805970149, lift=1.385351973354703)]),\n",
       " RelationRecord(items=frozenset({'mineral water', 'soup'}), support=0.023063591521130515, ordered_statistics=[OrderedStatistic(items_base=frozenset({'soup'}), items_add=frozenset({'mineral water'}), confidence=0.45646437994722955, lift=1.9149548735929356)]),\n",
       " RelationRecord(items=frozenset({'spaghetti', 'mineral water'}), support=0.05972536995067324, ordered_statistics=[OrderedStatistic(items_base=frozenset({'mineral water'}), items_add=frozenset({'spaghetti'}), confidence=0.2505592841163311, lift=1.4390851379453289), OrderedStatistic(items_base=frozenset({'spaghetti'}), items_add=frozenset({'mineral water'}), confidence=0.3430321592649311, lift=1.4390851379453289)]),\n",
       " RelationRecord(items=frozenset({'tomatoes', 'mineral water'}), support=0.024396747100386616, ordered_statistics=[OrderedStatistic(items_base=frozenset({'tomatoes'}), items_add=frozenset({'mineral water'}), confidence=0.3567251461988304, lift=1.4965298219448695)]),\n",
       " RelationRecord(items=frozenset({'whole wheat rice', 'mineral water'}), support=0.020130649246767097, ordered_statistics=[OrderedStatistic(items_base=frozenset({'whole wheat rice'}), items_add=frozenset({'mineral water'}), confidence=0.3439635535307517, lift=1.4429925140012128)]),\n",
       " RelationRecord(items=frozenset({'spaghetti', 'olive oil'}), support=0.022930275963204905, ordered_statistics=[OrderedStatistic(items_base=frozenset({'olive oil'}), items_add=frozenset({'spaghetti'}), confidence=0.3481781376518219, lift=1.999758201015556)]),\n",
       " RelationRecord(items=frozenset({'pancakes', 'spaghetti'}), support=0.025196640447940274, ordered_statistics=[OrderedStatistic(items_base=frozenset({'pancakes'}), items_add=frozenset({'spaghetti'}), confidence=0.2650771388499299, lift=1.522468314328732)]),\n",
       " RelationRecord(items=frozenset({'red wine', 'spaghetti'}), support=0.010265297960271964, ordered_statistics=[OrderedStatistic(items_base=frozenset({'red wine'}), items_add=frozenset({'spaghetti'}), confidence=0.36492890995260663, lift=2.095966120638976)]),\n",
       " RelationRecord(items=frozenset({'salmon', 'spaghetti'}), support=0.013464871350486601, ordered_statistics=[OrderedStatistic(items_base=frozenset({'salmon'}), items_add=frozenset({'spaghetti'}), confidence=0.3166144200626959, lift=1.8184722548930183)]),\n",
       " RelationRecord(items=frozenset({'spaghetti', 'shrimp'}), support=0.021197173710171976, ordered_statistics=[OrderedStatistic(items_base=frozenset({'shrimp'}), items_add=frozenset({'spaghetti'}), confidence=0.2966417910447761, lift=1.7037596283513519)]),\n",
       " RelationRecord(items=frozenset({'spaghetti', 'soup'}), support=0.014264764698040262, ordered_statistics=[OrderedStatistic(items_base=frozenset({'soup'}), items_add=frozenset({'spaghetti'}), confidence=0.2823218997361478, lift=1.6215134532318871)]),\n",
       " RelationRecord(items=frozenset({'spaghetti', 'tomatoes'}), support=0.020930542594320756, ordered_statistics=[OrderedStatistic(items_base=frozenset({'tomatoes'}), items_add=frozenset({'spaghetti'}), confidence=0.3060428849902534, lift=1.7577547322449394)]),\n",
       " RelationRecord(items=frozenset({'turkey', 'spaghetti'}), support=0.01653112918277563, ordered_statistics=[OrderedStatistic(items_base=frozenset({'turkey'}), items_add=frozenset({'spaghetti'}), confidence=0.26439232409381663, lift=1.5185350865449607)]),\n",
       " RelationRecord(items=frozenset({'whole wheat rice', 'spaghetti'}), support=0.014131449140114652, ordered_statistics=[OrderedStatistic(items_base=frozenset({'whole wheat rice'}), items_add=frozenset({'spaghetti'}), confidence=0.24145785876993167, lift=1.386811178126537)]),\n",
       " RelationRecord(items=frozenset({'eggs', 'mineral water', 'chocolate'}), support=0.013464871350486601, ordered_statistics=[OrderedStatistic(items_base=frozenset({'eggs', 'chocolate'}), items_add=frozenset({'mineral water'}), confidence=0.40562248995983935, lift=1.7016634771749188), OrderedStatistic(items_base=frozenset({'mineral water', 'chocolate'}), items_add=frozenset({'eggs'}), confidence=0.25569620253164554, lift=1.4228317620102917), OrderedStatistic(items_base=frozenset({'eggs', 'mineral water'}), items_add=frozenset({'chocolate'}), confidence=0.2643979057591623, lift=1.6137092685919252)]),\n",
       " RelationRecord(items=frozenset({'eggs', 'spaghetti', 'chocolate'}), support=0.010531929076123183, ordered_statistics=[OrderedStatistic(items_base=frozenset({'eggs', 'chocolate'}), items_add=frozenset({'spaghetti'}), confidence=0.3172690763052209, lift=1.8222322675080107), OrderedStatistic(items_base=frozenset({'spaghetti', 'chocolate'}), items_add=frozenset({'eggs'}), confidence=0.26870748299319724, lift=1.4952335533619974), OrderedStatistic(items_base=frozenset({'eggs', 'spaghetti'}), items_add=frozenset({'chocolate'}), confidence=0.28832116788321166, lift=1.7597209766411477)]),\n",
       " RelationRecord(items=frozenset({'ground beef', 'mineral water', 'chocolate'}), support=0.010931875749900012, ordered_statistics=[OrderedStatistic(items_base=frozenset({'ground beef', 'chocolate'}), items_add=frozenset({'mineral water'}), confidence=0.47398843930635837, lift=1.988471634920019), OrderedStatistic(items_base=frozenset({'mineral water', 'chocolate'}), items_add=frozenset({'ground beef'}), confidence=0.20759493670886073, lift=2.112848874156261), OrderedStatistic(items_base=frozenset({'ground beef', 'mineral water'}), items_add=frozenset({'chocolate'}), confidence=0.267100977198697, lift=1.6302070219425762)]),\n",
       " RelationRecord(items=frozenset({'milk', 'mineral water', 'chocolate'}), support=0.013998133582189041, ordered_statistics=[OrderedStatistic(items_base=frozenset({'milk', 'chocolate'}), items_add=frozenset({'mineral water'}), confidence=0.43568464730290457, lift=1.827779943746693), OrderedStatistic(items_base=frozenset({'mineral water', 'chocolate'}), items_add=frozenset({'milk'}), confidence=0.26582278481012656, lift=2.0513752148773245), OrderedStatistic(items_base=frozenset({'milk', 'mineral water'}), items_add=frozenset({'chocolate'}), confidence=0.2916666666666667, lift=1.7801396799566043)]),\n",
       " RelationRecord(items=frozenset({'milk', 'spaghetti', 'chocolate'}), support=0.010931875749900012, ordered_statistics=[OrderedStatistic(items_base=frozenset({'milk', 'chocolate'}), items_add=frozenset({'spaghetti'}), confidence=0.34024896265560167, lift=1.954217051209547), OrderedStatistic(items_base=frozenset({'spaghetti', 'chocolate'}), items_add=frozenset({'milk'}), confidence=0.2789115646258503, lift=2.152382352117802), OrderedStatistic(items_base=frozenset({'milk', 'spaghetti'}), items_add=frozenset({'chocolate'}), confidence=0.3082706766917293, lift=1.8814795328435)]),\n",
       " RelationRecord(items=frozenset({'mineral water', 'spaghetti', 'chocolate'}), support=0.01586455139314758, ordered_statistics=[OrderedStatistic(items_base=frozenset({'mineral water', 'chocolate'}), items_add=frozenset({'spaghetti'}), confidence=0.3012658227848101, lift=1.7303177157035687), OrderedStatistic(items_base=frozenset({'spaghetti', 'chocolate'}), items_add=frozenset({'mineral water'}), confidence=0.40476190476190477, lift=1.6980531586236285), OrderedStatistic(items_base=frozenset({'spaghetti', 'mineral water'}), items_add=frozenset({'chocolate'}), confidence=0.265625, lift=1.621198637103336)]),\n",
       " RelationRecord(items=frozenset({'eggs', 'ground beef', 'mineral water'}), support=0.010131982402346354, ordered_statistics=[OrderedStatistic(items_base=frozenset({'eggs', 'ground beef'}), items_add=frozenset({'mineral water'}), confidence=0.5066666666666667, lift=2.125563012677107), OrderedStatistic(items_base=frozenset({'ground beef', 'mineral water'}), items_add=frozenset({'eggs'}), confidence=0.247557003257329, lift=1.3775408615973477)]),\n",
       " RelationRecord(items=frozenset({'eggs', 'milk', 'mineral water'}), support=0.013064924676709772, ordered_statistics=[OrderedStatistic(items_base=frozenset({'eggs', 'milk'}), items_add=frozenset({'mineral water'}), confidence=0.42424242424242425, lift=1.7797776421937497), OrderedStatistic(items_base=frozenset({'eggs', 'mineral water'}), items_add=frozenset({'milk'}), confidence=0.25654450261780104, lift=1.979773985736755), OrderedStatistic(items_base=frozenset({'milk', 'mineral water'}), items_add=frozenset({'eggs'}), confidence=0.27222222222222225, lift=1.514791460600066)]),\n",
       " RelationRecord(items=frozenset({'eggs', 'spaghetti', 'mineral water'}), support=0.014264764698040262, ordered_statistics=[OrderedStatistic(items_base=frozenset({'eggs', 'mineral water'}), items_add=frozenset({'spaghetti'}), confidence=0.2801047120418848, lift=1.608779054384516), OrderedStatistic(items_base=frozenset({'eggs', 'spaghetti'}), items_add=frozenset({'mineral water'}), confidence=0.3905109489051095, lift=1.6382676888910663), OrderedStatistic(items_base=frozenset({'spaghetti', 'mineral water'}), items_add=frozenset({'eggs'}), confidence=0.23883928571428573, lift=1.3290307731030098)]),\n",
       " RelationRecord(items=frozenset({'spaghetti', 'mineral water', 'french fries'}), support=0.010131982402346354, ordered_statistics=[OrderedStatistic(items_base=frozenset({'mineral water', 'french fries'}), items_add=frozenset({'spaghetti'}), confidence=0.30039525691699603, lift=1.7253176279742628), OrderedStatistic(items_base=frozenset({'spaghetti', 'french fries'}), items_add=frozenset({'mineral water'}), confidence=0.36714975845410625, lift=1.54026305266457)]),\n",
       " RelationRecord(items=frozenset({'frozen vegetables', 'mineral water', 'milk'}), support=0.011065191307825623, ordered_statistics=[OrderedStatistic(items_base=frozenset({'frozen vegetables', 'milk'}), items_add=frozenset({'mineral water'}), confidence=0.46892655367231634, lift=1.9672360621342533), OrderedStatistic(items_base=frozenset({'frozen vegetables', 'mineral water'}), items_add=frozenset({'milk'}), confidence=0.3097014925373134, lift=2.3899906332534853), OrderedStatistic(items_base=frozenset({'milk', 'mineral water'}), items_add=frozenset({'frozen vegetables'}), confidence=0.23055555555555557, lift=2.418737373737374)]),\n",
       " RelationRecord(items=frozenset({'frozen vegetables', 'spaghetti', 'mineral water'}), support=0.011998400213304892, ordered_statistics=[OrderedStatistic(items_base=frozenset({'frozen vegetables', 'mineral water'}), items_add=frozenset({'spaghetti'}), confidence=0.33582089552238803, lift=1.9287844849260587), OrderedStatistic(items_base=frozenset({'frozen vegetables', 'spaghetti'}), items_add=frozenset({'mineral water'}), confidence=0.43062200956937796, lift=1.806541215760573), OrderedStatistic(items_base=frozenset({'spaghetti', 'mineral water'}), items_add=frozenset({'frozen vegetables'}), confidence=0.20089285714285715, lift=2.1075487012987013)]),\n",
       " RelationRecord(items=frozenset({'ground beef', 'milk', 'mineral water'}), support=0.011065191307825623, ordered_statistics=[OrderedStatistic(items_base=frozenset({'ground beef', 'milk'}), items_add=frozenset({'mineral water'}), confidence=0.503030303030303, lift=2.1103077757440176), OrderedStatistic(items_base=frozenset({'ground beef', 'mineral water'}), items_add=frozenset({'milk'}), confidence=0.2703583061889251, lift=2.0863761879867564), OrderedStatistic(items_base=frozenset({'milk', 'mineral water'}), items_add=frozenset({'ground beef'}), confidence=0.23055555555555557, lift=2.3465362581034226)]),\n",
       " RelationRecord(items=frozenset({'ground beef', 'spaghetti', 'mineral water'}), support=0.017064391414478068, ordered_statistics=[OrderedStatistic(items_base=frozenset({'ground beef', 'mineral water'}), items_add=frozenset({'spaghetti'}), confidence=0.41693811074918563, lift=2.3946805273580716), OrderedStatistic(items_base=frozenset({'ground beef', 'spaghetti'}), items_add=frozenset({'mineral water'}), confidence=0.4353741496598639, lift=1.8264773470909614), OrderedStatistic(items_base=frozenset({'spaghetti', 'mineral water'}), items_add=frozenset({'ground beef'}), confidence=0.2857142857142857, lift=2.90792789300252)]),\n",
       " RelationRecord(items=frozenset({'milk', 'spaghetti', 'mineral water'}), support=0.01573123583522197, ordered_statistics=[OrderedStatistic(items_base=frozenset({'milk', 'mineral water'}), items_add=frozenset({'spaghetti'}), confidence=0.3277777777777778, lift=1.882588905904373), OrderedStatistic(items_base=frozenset({'milk', 'spaghetti'}), items_add=frozenset({'mineral water'}), confidence=0.44360902255639095, lift=1.8610242048073202), OrderedStatistic(items_base=frozenset({'spaghetti', 'mineral water'}), items_add=frozenset({'milk'}), confidence=0.26339285714285715, lift=2.032623273074662)]),\n",
       " RelationRecord(items=frozenset({'spaghetti', 'mineral water', 'olive oil'}), support=0.010265297960271964, ordered_statistics=[OrderedStatistic(items_base=frozenset({'mineral water', 'olive oil'}), items_add=frozenset({'spaghetti'}), confidence=0.3719806763285024, lift=2.13646788142427), OrderedStatistic(items_base=frozenset({'spaghetti', 'olive oil'}), items_add=frozenset({'mineral water'}), confidence=0.4476744186046512, lift=1.8780793142916603)]),\n",
       " RelationRecord(items=frozenset({'pancakes', 'spaghetti', 'mineral water'}), support=0.011465137981602452, ordered_statistics=[OrderedStatistic(items_base=frozenset({'pancakes', 'mineral water'}), items_add=frozenset({'spaghetti'}), confidence=0.33992094861660077, lift=1.9523331053392974), OrderedStatistic(items_base=frozenset({'pancakes', 'spaghetti'}), items_add=frozenset({'mineral water'}), confidence=0.455026455026455, lift=1.908922505119373)])]"
      ]
     },
     "execution_count": 7,
     "metadata": {},
     "output_type": "execute_result"
    }
   ],
   "source": [
    "results"
   ]
  },
  {
   "cell_type": "markdown",
   "metadata": {
    "colab_type": "text",
    "id": "MFkQP-fcjDBC"
   },
   "source": [
    "### Putting the results well organised into a Pandas DataFrame"
   ]
  },
  {
   "cell_type": "code",
   "execution_count": 8,
   "metadata": {
    "colab": {},
    "colab_type": "code",
    "id": "gyq7Poi0mMUe"
   },
   "outputs": [],
   "source": [
    "def inspect(results):\n",
    "    lhs         = [tuple(result[2][0][0])[0] for result in results]\n",
    "    rhs         = [tuple(result[2][0][1])[0] for result in results]\n",
    "    supports    = [result[1] for result in results]\n",
    "    confidences = [result[2][0][2] for result in results]\n",
    "    lifts       = [result[2][0][3] for result in results]\n",
    "    return list(zip(lhs, rhs, supports, confidences, lifts))\n",
    "resultsinDataFrame = pd.DataFrame(inspect(results), columns = ['Left Hand Side', 'Right Hand Side', 'Support', 'Confidence', 'Lift'])"
   ]
  },
  {
   "cell_type": "markdown",
   "metadata": {
    "colab_type": "text",
    "id": "Pfn-G1eAjjLz"
   },
   "source": [
    "### Displaying the results non sorted"
   ]
  },
  {
   "cell_type": "code",
   "execution_count": 9,
   "metadata": {
    "colab": {
     "base_uri": "https://localhost:8080/",
     "height": 326
    },
    "colab_type": "code",
    "id": "CmDCcs_6ip9V",
    "outputId": "2170915c-075e-455e-b65b-6ae8d1a62166"
   },
   "outputs": [
    {
     "data": {
      "text/html": [
       "<div>\n",
       "<style scoped>\n",
       "    .dataframe tbody tr th:only-of-type {\n",
       "        vertical-align: middle;\n",
       "    }\n",
       "\n",
       "    .dataframe tbody tr th {\n",
       "        vertical-align: top;\n",
       "    }\n",
       "\n",
       "    .dataframe thead th {\n",
       "        text-align: right;\n",
       "    }\n",
       "</style>\n",
       "<table border=\"1\" class=\"dataframe\">\n",
       "  <thead>\n",
       "    <tr style=\"text-align: right;\">\n",
       "      <th></th>\n",
       "      <th>Left Hand Side</th>\n",
       "      <th>Right Hand Side</th>\n",
       "      <th>Support</th>\n",
       "      <th>Confidence</th>\n",
       "      <th>Lift</th>\n",
       "    </tr>\n",
       "  </thead>\n",
       "  <tbody>\n",
       "    <tr>\n",
       "      <th>0</th>\n",
       "      <td>avocado</td>\n",
       "      <td>mineral water</td>\n",
       "      <td>0.011598</td>\n",
       "      <td>0.348000</td>\n",
       "      <td>1.459926</td>\n",
       "    </tr>\n",
       "    <tr>\n",
       "      <th>1</th>\n",
       "      <td>burgers</td>\n",
       "      <td>eggs</td>\n",
       "      <td>0.028796</td>\n",
       "      <td>0.330275</td>\n",
       "      <td>1.837830</td>\n",
       "    </tr>\n",
       "    <tr>\n",
       "      <th>2</th>\n",
       "      <td>burgers</td>\n",
       "      <td>french fries</td>\n",
       "      <td>0.021997</td>\n",
       "      <td>0.252294</td>\n",
       "      <td>1.476173</td>\n",
       "    </tr>\n",
       "    <tr>\n",
       "      <th>3</th>\n",
       "      <td>burgers</td>\n",
       "      <td>green tea</td>\n",
       "      <td>0.017464</td>\n",
       "      <td>0.200306</td>\n",
       "      <td>1.516139</td>\n",
       "    </tr>\n",
       "    <tr>\n",
       "      <th>4</th>\n",
       "      <td>burgers</td>\n",
       "      <td>milk</td>\n",
       "      <td>0.017864</td>\n",
       "      <td>0.204893</td>\n",
       "      <td>1.581175</td>\n",
       "    </tr>\n",
       "    <tr>\n",
       "      <th>...</th>\n",
       "      <td>...</td>\n",
       "      <td>...</td>\n",
       "      <td>...</td>\n",
       "      <td>...</td>\n",
       "      <td>...</td>\n",
       "    </tr>\n",
       "    <tr>\n",
       "      <th>91</th>\n",
       "      <td>ground beef</td>\n",
       "      <td>mineral water</td>\n",
       "      <td>0.011065</td>\n",
       "      <td>0.503030</td>\n",
       "      <td>2.110308</td>\n",
       "    </tr>\n",
       "    <tr>\n",
       "      <th>92</th>\n",
       "      <td>ground beef</td>\n",
       "      <td>spaghetti</td>\n",
       "      <td>0.017064</td>\n",
       "      <td>0.416938</td>\n",
       "      <td>2.394681</td>\n",
       "    </tr>\n",
       "    <tr>\n",
       "      <th>93</th>\n",
       "      <td>milk</td>\n",
       "      <td>spaghetti</td>\n",
       "      <td>0.015731</td>\n",
       "      <td>0.327778</td>\n",
       "      <td>1.882589</td>\n",
       "    </tr>\n",
       "    <tr>\n",
       "      <th>94</th>\n",
       "      <td>mineral water</td>\n",
       "      <td>spaghetti</td>\n",
       "      <td>0.010265</td>\n",
       "      <td>0.371981</td>\n",
       "      <td>2.136468</td>\n",
       "    </tr>\n",
       "    <tr>\n",
       "      <th>95</th>\n",
       "      <td>pancakes</td>\n",
       "      <td>spaghetti</td>\n",
       "      <td>0.011465</td>\n",
       "      <td>0.339921</td>\n",
       "      <td>1.952333</td>\n",
       "    </tr>\n",
       "  </tbody>\n",
       "</table>\n",
       "<p>96 rows × 5 columns</p>\n",
       "</div>"
      ],
      "text/plain": [
       "   Left Hand Side Right Hand Side   Support  Confidence      Lift\n",
       "0         avocado   mineral water  0.011598    0.348000  1.459926\n",
       "1         burgers            eggs  0.028796    0.330275  1.837830\n",
       "2         burgers    french fries  0.021997    0.252294  1.476173\n",
       "3         burgers       green tea  0.017464    0.200306  1.516139\n",
       "4         burgers            milk  0.017864    0.204893  1.581175\n",
       "..            ...             ...       ...         ...       ...\n",
       "91    ground beef   mineral water  0.011065    0.503030  2.110308\n",
       "92    ground beef       spaghetti  0.017064    0.416938  2.394681\n",
       "93           milk       spaghetti  0.015731    0.327778  1.882589\n",
       "94  mineral water       spaghetti  0.010265    0.371981  2.136468\n",
       "95       pancakes       spaghetti  0.011465    0.339921  1.952333\n",
       "\n",
       "[96 rows x 5 columns]"
      ]
     },
     "execution_count": 9,
     "metadata": {},
     "output_type": "execute_result"
    }
   ],
   "source": [
    "resultsinDataFrame"
   ]
  },
  {
   "cell_type": "markdown",
   "metadata": {
    "colab_type": "text",
    "id": "IjrrlYW4jpTR"
   },
   "source": [
    "### Displaying the results sorted by descending lifts"
   ]
  },
  {
   "cell_type": "code",
   "execution_count": 10,
   "metadata": {
    "colab": {
     "base_uri": "https://localhost:8080/",
     "height": 326
    },
    "colab_type": "code",
    "id": "nI7DJXng-nxQ",
    "outputId": "aac84e87-eb2a-4428-cf55-1c16d23ea3ed"
   },
   "outputs": [
    {
     "data": {
      "text/html": [
       "<div>\n",
       "<style scoped>\n",
       "    .dataframe tbody tr th:only-of-type {\n",
       "        vertical-align: middle;\n",
       "    }\n",
       "\n",
       "    .dataframe tbody tr th {\n",
       "        vertical-align: top;\n",
       "    }\n",
       "\n",
       "    .dataframe thead th {\n",
       "        text-align: right;\n",
       "    }\n",
       "</style>\n",
       "<table border=\"1\" class=\"dataframe\">\n",
       "  <thead>\n",
       "    <tr style=\"text-align: right;\">\n",
       "      <th></th>\n",
       "      <th>Left Hand Side</th>\n",
       "      <th>Right Hand Side</th>\n",
       "      <th>Support</th>\n",
       "      <th>Confidence</th>\n",
       "      <th>Lift</th>\n",
       "    </tr>\n",
       "  </thead>\n",
       "  <tbody>\n",
       "    <tr>\n",
       "      <th>44</th>\n",
       "      <td>herb &amp; pepper</td>\n",
       "      <td>ground beef</td>\n",
       "      <td>0.015998</td>\n",
       "      <td>0.323450</td>\n",
       "      <td>3.291994</td>\n",
       "    </tr>\n",
       "    <tr>\n",
       "      <th>40</th>\n",
       "      <td>tomatoes</td>\n",
       "      <td>frozen vegetables</td>\n",
       "      <td>0.016131</td>\n",
       "      <td>0.235867</td>\n",
       "      <td>2.474464</td>\n",
       "    </tr>\n",
       "    <tr>\n",
       "      <th>38</th>\n",
       "      <td>shrimp</td>\n",
       "      <td>frozen vegetables</td>\n",
       "      <td>0.016664</td>\n",
       "      <td>0.233209</td>\n",
       "      <td>2.446574</td>\n",
       "    </tr>\n",
       "    <tr>\n",
       "      <th>92</th>\n",
       "      <td>ground beef</td>\n",
       "      <td>spaghetti</td>\n",
       "      <td>0.017064</td>\n",
       "      <td>0.416938</td>\n",
       "      <td>2.394681</td>\n",
       "    </tr>\n",
       "    <tr>\n",
       "      <th>57</th>\n",
       "      <td>soup</td>\n",
       "      <td>milk</td>\n",
       "      <td>0.015198</td>\n",
       "      <td>0.300792</td>\n",
       "      <td>2.321232</td>\n",
       "    </tr>\n",
       "    <tr>\n",
       "      <th>48</th>\n",
       "      <td>ground beef</td>\n",
       "      <td>spaghetti</td>\n",
       "      <td>0.039195</td>\n",
       "      <td>0.398915</td>\n",
       "      <td>2.291162</td>\n",
       "    </tr>\n",
       "    <tr>\n",
       "      <th>41</th>\n",
       "      <td>grated cheese</td>\n",
       "      <td>ground beef</td>\n",
       "      <td>0.011332</td>\n",
       "      <td>0.216285</td>\n",
       "      <td>2.201294</td>\n",
       "    </tr>\n",
       "    <tr>\n",
       "      <th>47</th>\n",
       "      <td>olive oil</td>\n",
       "      <td>ground beef</td>\n",
       "      <td>0.014131</td>\n",
       "      <td>0.214575</td>\n",
       "      <td>2.183889</td>\n",
       "    </tr>\n",
       "    <tr>\n",
       "      <th>94</th>\n",
       "      <td>mineral water</td>\n",
       "      <td>spaghetti</td>\n",
       "      <td>0.010265</td>\n",
       "      <td>0.371981</td>\n",
       "      <td>2.136468</td>\n",
       "    </tr>\n",
       "    <tr>\n",
       "      <th>85</th>\n",
       "      <td>eggs</td>\n",
       "      <td>mineral water</td>\n",
       "      <td>0.010132</td>\n",
       "      <td>0.506667</td>\n",
       "      <td>2.125563</td>\n",
       "    </tr>\n",
       "  </tbody>\n",
       "</table>\n",
       "</div>"
      ],
      "text/plain": [
       "   Left Hand Side    Right Hand Side   Support  Confidence      Lift\n",
       "44  herb & pepper        ground beef  0.015998    0.323450  3.291994\n",
       "40       tomatoes  frozen vegetables  0.016131    0.235867  2.474464\n",
       "38         shrimp  frozen vegetables  0.016664    0.233209  2.446574\n",
       "92    ground beef          spaghetti  0.017064    0.416938  2.394681\n",
       "57           soup               milk  0.015198    0.300792  2.321232\n",
       "48    ground beef          spaghetti  0.039195    0.398915  2.291162\n",
       "41  grated cheese        ground beef  0.011332    0.216285  2.201294\n",
       "47      olive oil        ground beef  0.014131    0.214575  2.183889\n",
       "94  mineral water          spaghetti  0.010265    0.371981  2.136468\n",
       "85           eggs      mineral water  0.010132    0.506667  2.125563"
      ]
     },
     "execution_count": 10,
     "metadata": {},
     "output_type": "execute_result"
    }
   ],
   "source": [
    "resultsinDataFrame.nlargest(n = 10, columns = 'Lift')"
   ]
  },
  {
   "cell_type": "code",
   "execution_count": null,
   "metadata": {},
   "outputs": [],
   "source": []
  }
 ],
 "metadata": {
  "colab": {
   "collapsed_sections": [],
   "name": "apriori.ipynb",
   "provenance": [],
   "toc_visible": true
  },
  "kernelspec": {
   "display_name": "Python 3",
   "language": "python",
   "name": "python3"
  },
  "language_info": {
   "codemirror_mode": {
    "name": "ipython",
    "version": 3
   },
   "file_extension": ".py",
   "mimetype": "text/x-python",
   "name": "python",
   "nbconvert_exporter": "python",
   "pygments_lexer": "ipython3",
   "version": "3.11.9"
  }
 },
 "nbformat": 4,
 "nbformat_minor": 4
}
